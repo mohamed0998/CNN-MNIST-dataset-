{
  "nbformat": 4,
  "nbformat_minor": 0,
  "metadata": {
    "colab": {
      "name": "mnist.ipynb",
      "provenance": [],
      "authorship_tag": "ABX9TyPGaU/N7dfDq8MpHrZeW7Fb",
      "include_colab_link": true
    },
    "kernelspec": {
      "name": "python3",
      "display_name": "Python 3"
    },
    "language_info": {
      "name": "python"
    },
    "widgets": {
      "application/vnd.jupyter.widget-state+json": {
        "3aaf1aa7c44f43bd8e0d8ff1e079ceff": {
          "model_module": "@jupyter-widgets/controls",
          "model_name": "HBoxModel",
          "model_module_version": "1.5.0",
          "state": {
            "_view_name": "HBoxView",
            "_dom_classes": [],
            "_model_name": "HBoxModel",
            "_view_module": "@jupyter-widgets/controls",
            "_model_module_version": "1.5.0",
            "_view_count": null,
            "_view_module_version": "1.5.0",
            "box_style": "",
            "layout": "IPY_MODEL_e4f5c19f3a4a4e8d9cc0e194ff26df5f",
            "_model_module": "@jupyter-widgets/controls",
            "children": [
              "IPY_MODEL_88a613ffe50b4e90af9ddf5a31581d1c",
              "IPY_MODEL_dc94384a4d3c4710a8f0a0124f7771c4",
              "IPY_MODEL_3d28d5d9b3c141ca92841c5315384578"
            ]
          }
        },
        "e4f5c19f3a4a4e8d9cc0e194ff26df5f": {
          "model_module": "@jupyter-widgets/base",
          "model_name": "LayoutModel",
          "model_module_version": "1.2.0",
          "state": {
            "_view_name": "LayoutView",
            "grid_template_rows": null,
            "right": null,
            "justify_content": null,
            "_view_module": "@jupyter-widgets/base",
            "overflow": null,
            "_model_module_version": "1.2.0",
            "_view_count": null,
            "flex_flow": null,
            "width": null,
            "min_width": null,
            "border": null,
            "align_items": null,
            "bottom": null,
            "_model_module": "@jupyter-widgets/base",
            "top": null,
            "grid_column": null,
            "overflow_y": null,
            "overflow_x": null,
            "grid_auto_flow": null,
            "grid_area": null,
            "grid_template_columns": null,
            "flex": null,
            "_model_name": "LayoutModel",
            "justify_items": null,
            "grid_row": null,
            "max_height": null,
            "align_content": null,
            "visibility": null,
            "align_self": null,
            "height": null,
            "min_height": null,
            "padding": null,
            "grid_auto_rows": null,
            "grid_gap": null,
            "max_width": null,
            "order": null,
            "_view_module_version": "1.2.0",
            "grid_template_areas": null,
            "object_position": null,
            "object_fit": null,
            "grid_auto_columns": null,
            "margin": null,
            "display": null,
            "left": null
          }
        },
        "88a613ffe50b4e90af9ddf5a31581d1c": {
          "model_module": "@jupyter-widgets/controls",
          "model_name": "HTMLModel",
          "model_module_version": "1.5.0",
          "state": {
            "_view_name": "HTMLView",
            "style": "IPY_MODEL_1236b6d862f5405398a8978088394e52",
            "_dom_classes": [],
            "description": "",
            "_model_name": "HTMLModel",
            "placeholder": "​",
            "_view_module": "@jupyter-widgets/controls",
            "_model_module_version": "1.5.0",
            "value": "Dl Completed...: 100%",
            "_view_count": null,
            "_view_module_version": "1.5.0",
            "description_tooltip": null,
            "_model_module": "@jupyter-widgets/controls",
            "layout": "IPY_MODEL_e1f7c913bdbb462a92be3d9582f74368"
          }
        },
        "dc94384a4d3c4710a8f0a0124f7771c4": {
          "model_module": "@jupyter-widgets/controls",
          "model_name": "FloatProgressModel",
          "model_module_version": "1.5.0",
          "state": {
            "_view_name": "ProgressView",
            "style": "IPY_MODEL_fe44cb71f98d4aa083c053d9c4402447",
            "_dom_classes": [],
            "description": "",
            "_model_name": "FloatProgressModel",
            "bar_style": "success",
            "max": 4,
            "_view_module": "@jupyter-widgets/controls",
            "_model_module_version": "1.5.0",
            "value": 4,
            "_view_count": null,
            "_view_module_version": "1.5.0",
            "orientation": "horizontal",
            "min": 0,
            "description_tooltip": null,
            "_model_module": "@jupyter-widgets/controls",
            "layout": "IPY_MODEL_b2f34db7daf747569bfcf09e7fb548f1"
          }
        },
        "3d28d5d9b3c141ca92841c5315384578": {
          "model_module": "@jupyter-widgets/controls",
          "model_name": "HTMLModel",
          "model_module_version": "1.5.0",
          "state": {
            "_view_name": "HTMLView",
            "style": "IPY_MODEL_3f1a3a8e441440c3943024ce9fb88b34",
            "_dom_classes": [],
            "description": "",
            "_model_name": "HTMLModel",
            "placeholder": "​",
            "_view_module": "@jupyter-widgets/controls",
            "_model_module_version": "1.5.0",
            "value": " 4/4 [00:01&lt;00:00,  1.71 file/s]",
            "_view_count": null,
            "_view_module_version": "1.5.0",
            "description_tooltip": null,
            "_model_module": "@jupyter-widgets/controls",
            "layout": "IPY_MODEL_c3f23e33127c4b3c806ac2b4e044c0f9"
          }
        },
        "1236b6d862f5405398a8978088394e52": {
          "model_module": "@jupyter-widgets/controls",
          "model_name": "DescriptionStyleModel",
          "model_module_version": "1.5.0",
          "state": {
            "_view_name": "StyleView",
            "_model_name": "DescriptionStyleModel",
            "description_width": "",
            "_view_module": "@jupyter-widgets/base",
            "_model_module_version": "1.5.0",
            "_view_count": null,
            "_view_module_version": "1.2.0",
            "_model_module": "@jupyter-widgets/controls"
          }
        },
        "e1f7c913bdbb462a92be3d9582f74368": {
          "model_module": "@jupyter-widgets/base",
          "model_name": "LayoutModel",
          "model_module_version": "1.2.0",
          "state": {
            "_view_name": "LayoutView",
            "grid_template_rows": null,
            "right": null,
            "justify_content": null,
            "_view_module": "@jupyter-widgets/base",
            "overflow": null,
            "_model_module_version": "1.2.0",
            "_view_count": null,
            "flex_flow": null,
            "width": null,
            "min_width": null,
            "border": null,
            "align_items": null,
            "bottom": null,
            "_model_module": "@jupyter-widgets/base",
            "top": null,
            "grid_column": null,
            "overflow_y": null,
            "overflow_x": null,
            "grid_auto_flow": null,
            "grid_area": null,
            "grid_template_columns": null,
            "flex": null,
            "_model_name": "LayoutModel",
            "justify_items": null,
            "grid_row": null,
            "max_height": null,
            "align_content": null,
            "visibility": null,
            "align_self": null,
            "height": null,
            "min_height": null,
            "padding": null,
            "grid_auto_rows": null,
            "grid_gap": null,
            "max_width": null,
            "order": null,
            "_view_module_version": "1.2.0",
            "grid_template_areas": null,
            "object_position": null,
            "object_fit": null,
            "grid_auto_columns": null,
            "margin": null,
            "display": null,
            "left": null
          }
        },
        "fe44cb71f98d4aa083c053d9c4402447": {
          "model_module": "@jupyter-widgets/controls",
          "model_name": "ProgressStyleModel",
          "model_module_version": "1.5.0",
          "state": {
            "_view_name": "StyleView",
            "_model_name": "ProgressStyleModel",
            "description_width": "",
            "_view_module": "@jupyter-widgets/base",
            "_model_module_version": "1.5.0",
            "_view_count": null,
            "_view_module_version": "1.2.0",
            "bar_color": null,
            "_model_module": "@jupyter-widgets/controls"
          }
        },
        "b2f34db7daf747569bfcf09e7fb548f1": {
          "model_module": "@jupyter-widgets/base",
          "model_name": "LayoutModel",
          "model_module_version": "1.2.0",
          "state": {
            "_view_name": "LayoutView",
            "grid_template_rows": null,
            "right": null,
            "justify_content": null,
            "_view_module": "@jupyter-widgets/base",
            "overflow": null,
            "_model_module_version": "1.2.0",
            "_view_count": null,
            "flex_flow": null,
            "width": null,
            "min_width": null,
            "border": null,
            "align_items": null,
            "bottom": null,
            "_model_module": "@jupyter-widgets/base",
            "top": null,
            "grid_column": null,
            "overflow_y": null,
            "overflow_x": null,
            "grid_auto_flow": null,
            "grid_area": null,
            "grid_template_columns": null,
            "flex": null,
            "_model_name": "LayoutModel",
            "justify_items": null,
            "grid_row": null,
            "max_height": null,
            "align_content": null,
            "visibility": null,
            "align_self": null,
            "height": null,
            "min_height": null,
            "padding": null,
            "grid_auto_rows": null,
            "grid_gap": null,
            "max_width": null,
            "order": null,
            "_view_module_version": "1.2.0",
            "grid_template_areas": null,
            "object_position": null,
            "object_fit": null,
            "grid_auto_columns": null,
            "margin": null,
            "display": null,
            "left": null
          }
        },
        "3f1a3a8e441440c3943024ce9fb88b34": {
          "model_module": "@jupyter-widgets/controls",
          "model_name": "DescriptionStyleModel",
          "model_module_version": "1.5.0",
          "state": {
            "_view_name": "StyleView",
            "_model_name": "DescriptionStyleModel",
            "description_width": "",
            "_view_module": "@jupyter-widgets/base",
            "_model_module_version": "1.5.0",
            "_view_count": null,
            "_view_module_version": "1.2.0",
            "_model_module": "@jupyter-widgets/controls"
          }
        },
        "c3f23e33127c4b3c806ac2b4e044c0f9": {
          "model_module": "@jupyter-widgets/base",
          "model_name": "LayoutModel",
          "model_module_version": "1.2.0",
          "state": {
            "_view_name": "LayoutView",
            "grid_template_rows": null,
            "right": null,
            "justify_content": null,
            "_view_module": "@jupyter-widgets/base",
            "overflow": null,
            "_model_module_version": "1.2.0",
            "_view_count": null,
            "flex_flow": null,
            "width": null,
            "min_width": null,
            "border": null,
            "align_items": null,
            "bottom": null,
            "_model_module": "@jupyter-widgets/base",
            "top": null,
            "grid_column": null,
            "overflow_y": null,
            "overflow_x": null,
            "grid_auto_flow": null,
            "grid_area": null,
            "grid_template_columns": null,
            "flex": null,
            "_model_name": "LayoutModel",
            "justify_items": null,
            "grid_row": null,
            "max_height": null,
            "align_content": null,
            "visibility": null,
            "align_self": null,
            "height": null,
            "min_height": null,
            "padding": null,
            "grid_auto_rows": null,
            "grid_gap": null,
            "max_width": null,
            "order": null,
            "_view_module_version": "1.2.0",
            "grid_template_areas": null,
            "object_position": null,
            "object_fit": null,
            "grid_auto_columns": null,
            "margin": null,
            "display": null,
            "left": null
          }
        }
      }
    }
  },
  "cells": [
    {
      "cell_type": "markdown",
      "metadata": {
        "id": "view-in-github",
        "colab_type": "text"
      },
      "source": [
        "<a href=\"https://colab.research.google.com/github/mohamed0998/CNN-MNIST-dataset-/blob/master/mnist.ipynb\" target=\"_parent\"><img src=\"https://colab.research.google.com/assets/colab-badge.svg\" alt=\"Open In Colab\"/></a>"
      ]
    },
    {
      "cell_type": "markdown",
      "metadata": {
        "id": "oDE1_3iXThJ3"
      },
      "source": [
        "## Importing the relevant packages"
      ]
    },
    {
      "cell_type": "code",
      "metadata": {
        "id": "4A3IVdhfTaUG"
      },
      "source": [
        "import tensorflow as tf\n",
        "import tensorflow_datasets as tfds"
      ],
      "execution_count": null,
      "outputs": []
    },
    {
      "cell_type": "markdown",
      "metadata": {
        "id": "zlEmeV6kTsTl"
      },
      "source": [
        "Before continuing with our model and training, our first job is to preprocess the dataset\n",
        "This is a very important step in all of machine learning\n",
        "\n",
        "The MNIST dataset is, in general, highly processed already - after all its 28x28 grayscale images of clearly visible digits\n",
        "Thus, our preprocessing will be limited to scaling the pixel values, shuffling the data and creating a validation set\n",
        " NOTE: When finally deploying a model in practice, it might be a good idea to include the prerpocessing as initial layers\n",
        "In that way, the users could just plug the data (images) directly, instead of being required to resize/rescale it before"
      ]
    },
    {
      "cell_type": "markdown",
      "metadata": {
        "id": "69OKnTycUPXW"
      },
      "source": [
        "# Defining some constants/hyperparameters\n",
        "\n",
        "\n"
      ]
    },
    {
      "cell_type": "code",
      "metadata": {
        "id": "Vi7Z6_o9Tuxi"
      },
      "source": [
        "\n",
        "BUFFER_SIZE = 70_000 # for reshuffling\n",
        "BATCH_SIZE = 128\n",
        "NUM_EPOCHS = 20"
      ],
      "execution_count": null,
      "outputs": []
    },
    {
      "cell_type": "markdown",
      "metadata": {
        "id": "GTTB8J0vUiO6"
      },
      "source": [
        "# Downloading the MNIST dataset\n",
        "\n",
        "When 'with_info' is set to True, tfds.load() returns two variables: \n",
        " - the dataset (including the train and test sets) \n",
        " - meta info regarding the dataset itself"
      ]
    },
    {
      "cell_type": "code",
      "metadata": {
        "colab": {
          "base_uri": "https://localhost:8080/",
          "height": 191,
          "referenced_widgets": [
            "3aaf1aa7c44f43bd8e0d8ff1e079ceff",
            "e4f5c19f3a4a4e8d9cc0e194ff26df5f",
            "88a613ffe50b4e90af9ddf5a31581d1c",
            "dc94384a4d3c4710a8f0a0124f7771c4",
            "3d28d5d9b3c141ca92841c5315384578",
            "1236b6d862f5405398a8978088394e52",
            "e1f7c913bdbb462a92be3d9582f74368",
            "fe44cb71f98d4aa083c053d9c4402447",
            "b2f34db7daf747569bfcf09e7fb548f1",
            "3f1a3a8e441440c3943024ce9fb88b34",
            "c3f23e33127c4b3c806ac2b4e044c0f9"
          ]
        },
        "id": "mLgmTZ_EUwdK",
        "outputId": "4578316d-98b2-4949-9735-759346b838ce"
      },
      "source": [
        "mnist_dataset, mnist_info = tfds.load(name='mnist', with_info=True, as_supervised=True)"
      ],
      "execution_count": null,
      "outputs": [
        {
          "output_type": "stream",
          "name": "stdout",
          "text": [
            "\u001b[1mDownloading and preparing dataset mnist/3.0.1 (download: 11.06 MiB, generated: 21.00 MiB, total: 32.06 MiB) to /root/tensorflow_datasets/mnist/3.0.1...\u001b[0m\n"
          ]
        },
        {
          "output_type": "stream",
          "name": "stderr",
          "text": [
            "WARNING:absl:Dataset mnist is hosted on GCS. It will automatically be downloaded to your\n",
            "local data directory. If you'd instead prefer to read directly from our public\n",
            "GCS bucket (recommended if you're running on GCP), you can instead pass\n",
            "`try_gcs=True` to `tfds.load` or set `data_dir=gs://tfds-data/datasets`.\n",
            "\n"
          ]
        },
        {
          "output_type": "display_data",
          "data": {
            "application/vnd.jupyter.widget-view+json": {
              "model_id": "3aaf1aa7c44f43bd8e0d8ff1e079ceff",
              "version_minor": 0,
              "version_major": 2
            },
            "text/plain": [
              "Dl Completed...:   0%|          | 0/4 [00:00<?, ? file/s]"
            ]
          },
          "metadata": {}
        },
        {
          "output_type": "stream",
          "name": "stdout",
          "text": [
            "\n",
            "\u001b[1mDataset mnist downloaded and prepared to /root/tensorflow_datasets/mnist/3.0.1. Subsequent calls will reuse this data.\u001b[0m\n"
          ]
        }
      ]
    },
    {
      "cell_type": "code",
      "metadata": {
        "id": "BrCWw76MVrfN"
      },
      "source": [
        "# Extracting the train and test datasets\n",
        "mnist_train, mnist_test = mnist_dataset['train'], mnist_dataset['test']"
      ],
      "execution_count": null,
      "outputs": []
    },
    {
      "cell_type": "markdown",
      "metadata": {
        "id": "HHfAtBHGVJmv"
      },
      "source": [
        "Creating a function to scale our image data (it is recommended to scale the pixel values in the range [0,1] )"
      ]
    },
    {
      "cell_type": "code",
      "metadata": {
        "id": "7NVzhNbUVPv-"
      },
      "source": [
        "def scale(image, label):\n",
        "    image = tf.cast(image, tf.float32)\n",
        "    image /= 255.\n",
        "\n",
        "    return image, label"
      ],
      "execution_count": null,
      "outputs": []
    },
    {
      "cell_type": "code",
      "metadata": {
        "id": "zpqXLV0mVfaY"
      },
      "source": [
        "# Scaling the data\n",
        "train_and_validation_data = mnist_train.map(scale)\n",
        "test_data = mnist_test.map(scale)"
      ],
      "execution_count": null,
      "outputs": []
    },
    {
      "cell_type": "code",
      "metadata": {
        "id": "qWpnfxnjVvAB"
      },
      "source": [
        "# Defining the size of the validation set\n",
        "num_validation_samples = 0.1 * mnist_info.splits['train'].num_examples\n",
        "num_validation_samples = tf.cast(num_validation_samples, tf.int64)"
      ],
      "execution_count": null,
      "outputs": []
    },
    {
      "cell_type": "code",
      "metadata": {
        "id": "nyaGiXiXV3zD"
      },
      "source": [
        "# Defining the size of the test set\n",
        "num_test_samples = mnist_info.splits['test'].num_examples\n",
        "num_test_samples = tf.cast(num_test_samples, tf.int64)"
      ],
      "execution_count": null,
      "outputs": []
    },
    {
      "cell_type": "code",
      "metadata": {
        "id": "bHxW0JqDV8Zw"
      },
      "source": [
        "# Reshuffling the dataset\n",
        "train_and_validation_data = train_and_validation_data.shuffle(BUFFER_SIZE)"
      ],
      "execution_count": null,
      "outputs": []
    },
    {
      "cell_type": "code",
      "metadata": {
        "id": "bTvOpN6uWAlI"
      },
      "source": [
        "# Splitting the dataset into training + validation\n",
        "train_data = train_and_validation_data.skip(num_validation_samples)\n",
        "validation_data = train_and_validation_data.take(num_validation_samples)"
      ],
      "execution_count": null,
      "outputs": []
    },
    {
      "cell_type": "code",
      "metadata": {
        "id": "ShkVFsJhWAm2"
      },
      "source": [
        "# Batching the data\n",
        "# NOTE: For proper functioning of the model, we need to create one big batch for the validation and test sets\n",
        "train_data = train_data.batch(BATCH_SIZE)\n",
        "validation_data = validation_data.batch(num_validation_samples) \n",
        "test_data = test_data.batch(num_test_samples)"
      ],
      "execution_count": null,
      "outputs": []
    },
    {
      "cell_type": "markdown",
      "metadata": {
        "id": "TikEFhn0XpDt"
      },
      "source": [
        "## Creating the model and training it"
      ]
    },
    {
      "cell_type": "markdown",
      "metadata": {
        "id": "Hj1KcXlyay5M"
      },
      "source": [
        " Now that we have preprocessed the dataset, we can define our CNN and train it"
      ]
    },
    {
      "cell_type": "code",
      "metadata": {
        "id": "hzy8xahwWAqJ"
      },
      "source": [
        "# Outlining the model/architecture of our CNN\n",
        "# CONV -> MAXPOOL -> CONV -> MAXPOOL -> FLATTEN -> DENSE\n",
        "model = tf.keras.Sequential([\n",
        "    tf.keras.layers.Conv2D(50, 5, activation='relu', input_shape=(28, 28, 1)),\n",
        "    tf.keras.layers.MaxPooling2D(pool_size=(2,2)), \n",
        "    # (2,2) is the default pool size so we could have just used MaxPooling2D() with no explicit arguments\n",
        "    tf.keras.layers.Conv2D(50, 3, activation='relu'),\n",
        "    tf.keras.layers.MaxPooling2D(pool_size=(2,2)), \n",
        "    tf.keras.layers.Flatten(),\n",
        "    tf.keras.layers.Dense(10) # You can apply softmax activation here, see below for comentary\n",
        "])"
      ],
      "execution_count": 15,
      "outputs": []
    },
    {
      "cell_type": "markdown",
      "metadata": {
        "id": "V4G-LSWTbDT0"
      },
      "source": [
        "A brief summary of the model and parameters\n"
      ]
    },
    {
      "cell_type": "code",
      "metadata": {
        "id": "_uCY32siVgmm",
        "colab": {
          "base_uri": "https://localhost:8080/"
        },
        "outputId": "36caf254-1576-4279-c3be-f1f206e0ed4a"
      },
      "source": [
        "model.summary(line_length = 75)"
      ],
      "execution_count": 16,
      "outputs": [
        {
          "output_type": "stream",
          "name": "stdout",
          "text": [
            "Model: \"sequential\"\n",
            "___________________________________________________________________________\n",
            " Layer (type)                    Output Shape                  Param #     \n",
            "===========================================================================\n",
            " conv2d (Conv2D)                 (None, 24, 24, 50)            1300        \n",
            "                                                                           \n",
            " max_pooling2d (MaxPooling2D)    (None, 12, 12, 50)            0           \n",
            "                                                                           \n",
            " conv2d_1 (Conv2D)               (None, 10, 10, 50)            22550       \n",
            "                                                                           \n",
            " max_pooling2d_1 (MaxPooling2D)  (None, 5, 5, 50)              0           \n",
            "                                                                           \n",
            " flatten (Flatten)               (None, 1250)                  0           \n",
            "                                                                           \n",
            " dense (Dense)                   (None, 10)                    12510       \n",
            "                                                                           \n",
            "===========================================================================\n",
            "Total params: 36,360\n",
            "Trainable params: 36,360\n",
            "Non-trainable params: 0\n",
            "___________________________________________________________________________\n"
          ]
        }
      ]
    },
    {
      "cell_type": "markdown",
      "metadata": {
        "id": "uSmSxW8MbfEu"
      },
      "source": [
        "# Defining the loss function\n",
        "\n",
        "- In general, our model needs to output probabilities of each class, \n",
        "- which can be achieved with a softmax activation in the last dense layer\n",
        "\n",
        "- However, when using the softmax activation, the loss can rarely be unstable\n",
        "\n",
        "- Thus, instead of incorporating the softmax into the model itself,\n",
        "- we use a loss calculation that automatically corrects for the missing softmax\n",
        "- That is the reason for 'from_logits=True'\n"
      ]
    },
    {
      "cell_type": "code",
      "metadata": {
        "id": "-eVtrf-9bLY8"
      },
      "source": [
        "loss_fn = tf.keras.losses.SparseCategoricalCrossentropy(from_logits=True)"
      ],
      "execution_count": 18,
      "outputs": []
    },
    {
      "cell_type": "markdown",
      "metadata": {
        "id": "QToJQjS8b3rK"
      },
      "source": [
        "Compiling the model with Adam optimizer and the cathegorical crossentropy as a loss function\n"
      ]
    },
    {
      "cell_type": "code",
      "metadata": {
        "id": "zN0i5NN4b3WY"
      },
      "source": [
        "model.compile(optimizer='adam', loss=loss_fn, metrics=['accuracy'])"
      ],
      "execution_count": 19,
      "outputs": []
    },
    {
      "cell_type": "markdown",
      "metadata": {
        "id": "iNpWeT4OcEvr"
      },
      "source": [
        "# Defining early stopping to prevent overfitting"
      ]
    },
    {
      "cell_type": "code",
      "metadata": {
        "id": "FuPwooJbcE85"
      },
      "source": [
        "early_stopping = tf.keras.callbacks.EarlyStopping(\n",
        "    monitor = 'val_loss',\n",
        "    mode = 'auto',    \n",
        "    min_delta = 0,\n",
        "    patience = 2,\n",
        "    verbose = 0, \n",
        "    restore_best_weights = True\n",
        ")"
      ],
      "execution_count": 21,
      "outputs": []
    },
    {
      "cell_type": "markdown",
      "metadata": {
        "id": "YoZ_rMPjcR-E"
      },
      "source": [
        "# Train the network\n"
      ]
    },
    {
      "cell_type": "code",
      "metadata": {
        "colab": {
          "base_uri": "https://localhost:8080/"
        },
        "id": "LAMjGl1GcSKe",
        "outputId": "a5b3777a-2332-43be-adf0-5842efbd99f7"
      },
      "source": [
        "model.fit(\n",
        "    train_data, \n",
        "    epochs = NUM_EPOCHS, \n",
        "    callbacks = [early_stopping], \n",
        "    validation_data = validation_data,\n",
        "    verbose = 2\n",
        ")"
      ],
      "execution_count": 22,
      "outputs": [
        {
          "output_type": "stream",
          "name": "stdout",
          "text": [
            "Epoch 1/20\n",
            "422/422 - 62s - loss: 0.2747 - accuracy: 0.9210 - val_loss: 0.0848 - val_accuracy: 0.9752 - 62s/epoch - 147ms/step\n",
            "Epoch 2/20\n",
            "422/422 - 62s - loss: 0.0700 - accuracy: 0.9789 - val_loss: 0.0496 - val_accuracy: 0.9853 - 62s/epoch - 146ms/step\n",
            "Epoch 3/20\n",
            "422/422 - 62s - loss: 0.0520 - accuracy: 0.9846 - val_loss: 0.0387 - val_accuracy: 0.9878 - 62s/epoch - 148ms/step\n",
            "Epoch 4/20\n",
            "422/422 - 62s - loss: 0.0410 - accuracy: 0.9875 - val_loss: 0.0379 - val_accuracy: 0.9875 - 62s/epoch - 148ms/step\n",
            "Epoch 5/20\n",
            "422/422 - 62s - loss: 0.0362 - accuracy: 0.9886 - val_loss: 0.0282 - val_accuracy: 0.9922 - 62s/epoch - 148ms/step\n",
            "Epoch 6/20\n",
            "422/422 - 62s - loss: 0.0315 - accuracy: 0.9901 - val_loss: 0.0236 - val_accuracy: 0.9930 - 62s/epoch - 147ms/step\n",
            "Epoch 7/20\n",
            "422/422 - 62s - loss: 0.0271 - accuracy: 0.9917 - val_loss: 0.0227 - val_accuracy: 0.9930 - 62s/epoch - 147ms/step\n",
            "Epoch 8/20\n",
            "422/422 - 62s - loss: 0.0244 - accuracy: 0.9926 - val_loss: 0.0166 - val_accuracy: 0.9952 - 62s/epoch - 147ms/step\n",
            "Epoch 9/20\n",
            "422/422 - 62s - loss: 0.0220 - accuracy: 0.9931 - val_loss: 0.0191 - val_accuracy: 0.9950 - 62s/epoch - 148ms/step\n",
            "Epoch 10/20\n",
            "422/422 - 62s - loss: 0.0182 - accuracy: 0.9943 - val_loss: 0.0280 - val_accuracy: 0.9917 - 62s/epoch - 148ms/step\n"
          ]
        },
        {
          "output_type": "execute_result",
          "data": {
            "text/plain": [
              "<keras.callbacks.History at 0x7fb0bdf8bb50>"
            ]
          },
          "metadata": {},
          "execution_count": 22
        }
      ]
    }
  ]
}